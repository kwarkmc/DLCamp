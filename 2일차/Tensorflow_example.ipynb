{
 "cells": [
  {
   "cell_type": "code",
   "execution_count": 2,
   "id": "6d954f3e",
   "metadata": {},
   "outputs": [
    {
     "name": "stdout",
     "output_type": "stream",
     "text": [
      "WARNING:tensorflow:Deprecation warnings have been disabled. Set TF_ENABLE_DEPRECATION_WARNINGS=1 to re-enable them.\n"
     ]
    }
   ],
   "source": [
    "import tensorflow as tf"
   ]
  },
  {
   "cell_type": "code",
   "execution_count": 3,
   "id": "6a5871e1",
   "metadata": {},
   "outputs": [],
   "source": [
    "hello = tf.constant(\"Hello World\")"
   ]
  },
  {
   "cell_type": "code",
   "execution_count": 4,
   "id": "94f7bfe3",
   "metadata": {},
   "outputs": [
    {
     "name": "stdout",
     "output_type": "stream",
     "text": [
      "Tensor(\"Const:0\", shape=(), dtype=string)\n"
     ]
    }
   ],
   "source": [
    "print(hello)"
   ]
  },
  {
   "cell_type": "code",
   "execution_count": 5,
   "id": "8cc71596",
   "metadata": {},
   "outputs": [],
   "source": [
    "a = tf.constant(10)\n",
    "b = tf.constant(32)\n",
    "c = a + b"
   ]
  },
  {
   "cell_type": "code",
   "execution_count": 6,
   "id": "3001773f",
   "metadata": {},
   "outputs": [
    {
     "name": "stdout",
     "output_type": "stream",
     "text": [
      "Tensor(\"add:0\", shape=(), dtype=int32)\n"
     ]
    }
   ],
   "source": [
    "print(c)"
   ]
  },
  {
   "cell_type": "code",
   "execution_count": 7,
   "id": "465554df",
   "metadata": {},
   "outputs": [],
   "source": [
    "sess = tf.Session()"
   ]
  },
  {
   "cell_type": "code",
   "execution_count": 8,
   "id": "694bc932",
   "metadata": {},
   "outputs": [
    {
     "name": "stdout",
     "output_type": "stream",
     "text": [
      "b'Hello World'\n"
     ]
    }
   ],
   "source": [
    "print(sess.run(hello))"
   ]
  },
  {
   "cell_type": "code",
   "execution_count": 10,
   "id": "1795facb",
   "metadata": {},
   "outputs": [
    {
     "name": "stdout",
     "output_type": "stream",
     "text": [
      "Hello World\n"
     ]
    }
   ],
   "source": [
    "print(str(sess.run(hello), encoding=\"utf-8\"))"
   ]
  },
  {
   "cell_type": "code",
   "execution_count": 13,
   "id": "930701c9",
   "metadata": {},
   "outputs": [
    {
     "name": "stdout",
     "output_type": "stream",
     "text": [
      "[10, 32, 42]\n"
     ]
    }
   ],
   "source": [
    "print(sess.run([a, b, c]))"
   ]
  },
  {
   "cell_type": "code",
   "execution_count": 14,
   "id": "7ed8bfbe",
   "metadata": {},
   "outputs": [],
   "source": [
    "sess.close()"
   ]
  },
  {
   "cell_type": "code",
   "execution_count": 15,
   "id": "50de019b",
   "metadata": {},
   "outputs": [],
   "source": [
    "node1 = tf.constant(3.0)\n",
    "node2 = tf.constant(4.0)\n",
    "node3 = tf.add(node1, node2)"
   ]
  },
  {
   "cell_type": "code",
   "execution_count": 16,
   "id": "ecd24793",
   "metadata": {},
   "outputs": [
    {
     "name": "stdout",
     "output_type": "stream",
     "text": [
      "node3 :  Tensor(\"Add_1:0\", shape=(), dtype=float32)\n",
      "sess.run(node3) :  7.0\n"
     ]
    }
   ],
   "source": [
    "with tf.Session() as sess:\n",
    "    print(\"node3 : \", node3)\n",
    "    print(\"sess.run(node3) : \", sess.run(node3))"
   ]
  },
  {
   "cell_type": "markdown",
   "id": "d7179fd5",
   "metadata": {},
   "source": [
    "Node 1, 2 를 실행하지 않아도 그래프로 연결되어있기 때문에 Node 1, 2가 더해져서 Node 3 이 출력된다."
   ]
  },
  {
   "cell_type": "code",
   "execution_count": 17,
   "id": "30471e7b",
   "metadata": {},
   "outputs": [],
   "source": [
    "input01 = tf.placeholder(tf.float32)\n",
    "input02 = tf.placeholder(tf.float32)\n",
    "output = tf.multiply(input01, input02)"
   ]
  },
  {
   "cell_type": "code",
   "execution_count": 18,
   "id": "c2c887fa",
   "metadata": {},
   "outputs": [
    {
     "name": "stdout",
     "output_type": "stream",
     "text": [
      "input01 :  Tensor(\"Placeholder:0\", dtype=float32)\n",
      "input02 :  Tensor(\"Placeholder_1:0\", dtype=float32)\n"
     ]
    }
   ],
   "source": [
    "print(\"input01 : \", input01)\n",
    "print(\"input02 : \", input02)"
   ]
  },
  {
   "cell_type": "code",
   "execution_count": 20,
   "id": "d1d4e9fc",
   "metadata": {},
   "outputs": [
    {
     "name": "stdout",
     "output_type": "stream",
     "text": [
      "15.0\n",
      "0.0\n",
      "[12.]\n"
     ]
    }
   ],
   "source": [
    "with tf.Session() as sess:\n",
    "    print(sess.run(output, feed_dict={input01 : 3.0, input02 : 5.0}))\n",
    "    print(sess.run(output, feed_dict={input01 : 0.0, input02 : 6.0}))\n",
    "    print(sess.run(output, feed_dict={input01 : [2.0], input02 : [6.0]}))"
   ]
  },
  {
   "cell_type": "code",
   "execution_count": 21,
   "id": "cacfd121",
   "metadata": {},
   "outputs": [],
   "source": [
    "X = tf.placeholder(tf.float32, [None, 3])\n",
    "#None은 크기가 정해지지 않았음을 의미한다. (얼마나 들어올 지 모르겠다!)"
   ]
  },
  {
   "cell_type": "code",
   "execution_count": 23,
   "id": "5e1848a5",
   "metadata": {},
   "outputs": [
    {
     "name": "stdout",
     "output_type": "stream",
     "text": [
      "Tensor(\"Placeholder_2:0\", shape=(?, 3), dtype=float32)\n"
     ]
    }
   ],
   "source": [
    "print(X)"
   ]
  },
  {
   "cell_type": "code",
   "execution_count": 24,
   "id": "36f1ff72",
   "metadata": {},
   "outputs": [],
   "source": [
    "x_data = [[1, 2, 3], [4, 5, 6]]\n",
    "#X placeholder에 넣을 값\n",
    "#두 번째 차원의 요소의 개수는 3"
   ]
  },
  {
   "cell_type": "code",
   "execution_count": 25,
   "id": "e372ed20",
   "metadata": {},
   "outputs": [],
   "source": [
    "w = tf.Variable(tf.random_normal([3, 2]))\n",
    "b = tf.Variable(tf.random_normal([2, 1]))\n",
    "#tf.Variable() : 그래프를 계산하면서 최적화 할 함수\n",
    "#tf.random_normal() : 각 변수의 초기 값을 정규분포 랜덤 값으로 초기화"
   ]
  },
  {
   "cell_type": "code",
   "execution_count": 27,
   "id": "d23611f8",
   "metadata": {},
   "outputs": [],
   "source": [
    "expr = tf.matmul(X, w) + b\n",
    "#입력값과 변수들을 계산할 수식을 작성\n",
    "#tf.matmul 처럼 mat로 시작하는 함수로 행렬계산을 수행 (행렬 곱셈)"
   ]
  },
  {
   "cell_type": "code",
   "execution_count": 28,
   "id": "d7e0c015",
   "metadata": {},
   "outputs": [],
   "source": [
    "sess = tf.Session()"
   ]
  },
  {
   "cell_type": "code",
   "execution_count": 29,
   "id": "8df9ed31",
   "metadata": {},
   "outputs": [],
   "source": [
    "sess.run(tf.global_variables_initializer())"
   ]
  },
  {
   "cell_type": "code",
   "execution_count": 30,
   "id": "3885a427",
   "metadata": {},
   "outputs": [
    {
     "name": "stdout",
     "output_type": "stream",
     "text": [
      "[[1, 2, 3], [4, 5, 6]]\n"
     ]
    }
   ],
   "source": [
    "print(x_data)"
   ]
  },
  {
   "cell_type": "code",
   "execution_count": 31,
   "id": "767ef99e",
   "metadata": {},
   "outputs": [
    {
     "name": "stdout",
     "output_type": "stream",
     "text": [
      "[[-0.9652626  -0.00157781]\n",
      " [ 0.13882788  1.3809183 ]\n",
      " [-0.00365035  1.1573306 ]]\n"
     ]
    }
   ],
   "source": [
    "print(sess.run(w))"
   ]
  },
  {
   "cell_type": "code",
   "execution_count": 32,
   "id": "5da35d4d",
   "metadata": {},
   "outputs": [
    {
     "name": "stdout",
     "output_type": "stream",
     "text": [
      "[[-0.9882538]\n",
      " [ 1.1819639]]\n"
     ]
    }
   ],
   "source": [
    "print(sess.run(b))"
   ]
  },
  {
   "cell_type": "code",
   "execution_count": 33,
   "id": "bff835de",
   "metadata": {},
   "outputs": [
    {
     "name": "stdout",
     "output_type": "stream",
     "text": [
      "[[-1.6868117  5.243997 ]\n",
      " [-2.006849  15.024228 ]]\n"
     ]
    }
   ],
   "source": [
    "print(sess.run(expr, feed_dict={X : x_data}))"
   ]
  },
  {
   "cell_type": "code",
   "execution_count": 34,
   "id": "f93bf1ec",
   "metadata": {},
   "outputs": [],
   "source": [
    "sess.close()"
   ]
  },
  {
   "cell_type": "code",
   "execution_count": null,
   "id": "90f9b59b",
   "metadata": {},
   "outputs": [],
   "source": []
  }
 ],
 "metadata": {
  "kernelspec": {
   "display_name": "tf1",
   "language": "python",
   "name": "tf1"
  },
  "language_info": {
   "codemirror_mode": {
    "name": "ipython",
    "version": 3
   },
   "file_extension": ".py",
   "mimetype": "text/x-python",
   "name": "python",
   "nbconvert_exporter": "python",
   "pygments_lexer": "ipython3",
   "version": "3.6.9"
  }
 },
 "nbformat": 4,
 "nbformat_minor": 5
}
