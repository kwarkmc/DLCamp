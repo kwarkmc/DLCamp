{
 "cells": [
  {
   "cell_type": "code",
   "execution_count": 1,
   "id": "69c296fe",
   "metadata": {},
   "outputs": [
    {
     "name": "stdout",
     "output_type": "stream",
     "text": [
      "WARNING:tensorflow:Deprecation warnings have been disabled. Set TF_ENABLE_DEPRECATION_WARNINGS=1 to re-enable them.\n"
     ]
    }
   ],
   "source": [
    "import tensorflow as tf"
   ]
  },
  {
   "cell_type": "code",
   "execution_count": 2,
   "id": "3840d078",
   "metadata": {},
   "outputs": [],
   "source": [
    "tf.set_random_seed(777)"
   ]
  },
  {
   "cell_type": "code",
   "execution_count": 3,
   "id": "8869b469",
   "metadata": {},
   "outputs": [],
   "source": [
    "x_data = [1, 2, 3]\n",
    "y_data = [1, 2, 3]"
   ]
  },
  {
   "cell_type": "code",
   "execution_count": 4,
   "id": "9d7e551a",
   "metadata": {},
   "outputs": [],
   "source": [
    "w = tf.Variable(tf.random_normal(([1]), name = 'weight'))"
   ]
  },
  {
   "cell_type": "code",
   "execution_count": 5,
   "id": "cc0dff95",
   "metadata": {},
   "outputs": [],
   "source": [
    "X = tf.placeholder(tf.float32)\n",
    "Y = tf.placeholder(tf.float32)"
   ]
  },
  {
   "cell_type": "code",
   "execution_count": 6,
   "id": "ffa858ea",
   "metadata": {},
   "outputs": [],
   "source": [
    "hypothesis = X * w"
   ]
  },
  {
   "cell_type": "code",
   "execution_count": 7,
   "id": "31b3be04",
   "metadata": {},
   "outputs": [],
   "source": [
    "cost = tf.reduce_mean(tf.square(hypothesis - Y))\n",
    "learning_rate = 0.1\n",
    "gradient = tf.reduce_mean((w * X - Y) * X)\n",
    "descent = w - learning_rate * gradient\n",
    "update = w.assign(descent)"
   ]
  },
  {
   "cell_type": "code",
   "execution_count": 11,
   "id": "17418bb1",
   "metadata": {},
   "outputs": [],
   "source": [
    "W_val = []\n",
    "Cost_val = []"
   ]
  },
  {
   "cell_type": "code",
   "execution_count": 12,
   "id": "313d00ea",
   "metadata": {},
   "outputs": [
    {
     "name": "stdout",
     "output_type": "stream",
     "text": [
      "0 6.8174477 [2.2086694]\n",
      "1 1.9391857 [1.6446238]\n",
      "2 0.5515905 [1.3437994]\n",
      "3 0.15689684 [1.1833596]\n",
      "4 0.044628453 [1.0977918]\n",
      "5 0.012694317 [1.0521556]\n",
      "6 0.003610816 [1.0278163]\n",
      "7 0.0010270766 [1.0148354]\n",
      "8 0.00029214387 [1.0079122]\n",
      "9 8.309683e-05 [1.0042198]\n",
      "10 2.363606e-05 [1.0022506]\n",
      "11 6.723852e-06 [1.0012003]\n",
      "12 1.912386e-06 [1.0006402]\n",
      "13 5.439676e-07 [1.0003414]\n",
      "14 1.5459062e-07 [1.000182]\n",
      "15 4.3941593e-08 [1.000097]\n",
      "16 1.2491266e-08 [1.0000517]\n",
      "17 3.5321979e-09 [1.0000275]\n",
      "18 9.998237e-10 [1.0000147]\n",
      "19 2.8887825e-10 [1.0000079]\n"
     ]
    }
   ],
   "source": [
    "with tf.Session() as sess:\n",
    "    sess.run(tf.global_variables_initializer())\n",
    "    for step in range(20):\n",
    "        val, cost_val, w_val = sess.run([update, cost, w], feed_dict = {X : x_data, Y : y_data})\n",
    "        W_val.append(w_val)\n",
    "        Cost_val.append(cost_val)\n",
    "        print(step, cost_val, w_val)"
   ]
  },
  {
   "cell_type": "code",
   "execution_count": 14,
   "id": "03a4fe28",
   "metadata": {},
   "outputs": [
    {
     "data": {
      "image/png": "[encoded data removed]",
      "text/plain": [
       "<matplotlib.figure.Figure at 0x7f04aa5a20>"
      ]
     },
     "metadata": {
      "needs_background": "light"
     },
     "output_type": "display_data"
    }
   ],
   "source": [
    "import matplotlib.pyplot as plt\n",
    "\n",
    "plt.plot(W_val, Cost_val, 'ro')\n",
    "plt.ylabel('Cost')\n",
    "plt.xlabel('W')\n",
    "plt.show()"
   ]
  },
  {
   "cell_type": "code",
   "execution_count": null,
   "id": "9cf951c4",
   "metadata": {},
   "outputs": [],
   "source": []
  }
 ],
 "metadata": {
  "kernelspec": {
   "display_name": "tf1",
   "language": "python",
   "name": "tf1"
  },
  "language_info": {
   "codemirror_mode": {
    "name": "ipython",
    "version": 3
   },
   "file_extension": ".py",
   "mimetype": "text/x-python",
   "name": "python",
   "nbconvert_exporter": "python",
   "pygments_lexer": "ipython3",
   "version": "3.6.9"
  }
 },
 "nbformat": 4,
 "nbformat_minor": 5
}
