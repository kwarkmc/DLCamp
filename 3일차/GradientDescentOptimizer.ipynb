{
 "cells": [
  {
   "cell_type": "code",
   "execution_count": 1,
   "id": "f7a5b0a8",
   "metadata": {},
   "outputs": [
    {
     "name": "stdout",
     "output_type": "stream",
     "text": [
      "WARNING:tensorflow:Deprecation warnings have been disabled. Set TF_ENABLE_DEPRECATION_WARNINGS=1 to re-enable them.\n"
     ]
    }
   ],
   "source": [
    "import tensorflow as tf"
   ]
  },
  {
   "cell_type": "code",
   "execution_count": 2,
   "id": "ea9916a7",
   "metadata": {},
   "outputs": [],
   "source": [
    "tf.set_random_seed(777)"
   ]
  },
  {
   "cell_type": "code",
   "execution_count": 4,
   "id": "3376b91a",
   "metadata": {},
   "outputs": [],
   "source": [
    "x_train = [1, 2, 3]\n",
    "y_train = [1, 2, 3]"
   ]
  },
  {
   "cell_type": "code",
   "execution_count": 5,
   "id": "59d291a9",
   "metadata": {},
   "outputs": [],
   "source": [
    "w = tf.Variable(tf.random_normal([1]), name='weight')\n",
    "b = tf.Variable(tf.random_normal([1]), name='bias')"
   ]
  },
  {
   "cell_type": "code",
   "execution_count": 6,
   "id": "08f8f700",
   "metadata": {},
   "outputs": [],
   "source": [
    "hypothesis = x_train * w + b"
   ]
  },
  {
   "cell_type": "code",
   "execution_count": 7,
   "id": "0cc876bb",
   "metadata": {},
   "outputs": [],
   "source": [
    "cost = tf.reduce_mean(tf.square(hypothesis))"
   ]
  },
  {
   "cell_type": "code",
   "execution_count": 9,
   "id": "815f7b63",
   "metadata": {},
   "outputs": [],
   "source": [
    "train = tf.train.GradientDescentOptimizer(learning_rate = 0.01).minimize(cost)"
   ]
  },
  {
   "cell_type": "code",
   "execution_count": 10,
   "id": "1aa2aa82",
   "metadata": {},
   "outputs": [],
   "source": [
    "W_val = []\n",
    "Cost_val = []"
   ]
  },
  {
   "cell_type": "code",
   "execution_count": 13,
   "id": "2dd29de8",
   "metadata": {},
   "outputs": [
    {
     "name": "stdout",
     "output_type": "stream",
     "text": [
      "0 16.189983 [2.2086694] [-0.8204183]\n",
      "1 12.863534 [2.0353436] [-0.8923567]\n",
      "2 10.233836 [1.8810725] [-0.9559233]\n",
      "3 8.154883 [1.7437427] [-1.0120478]\n",
      "4 6.5112686 [1.6214753] [-1.0615566]\n",
      "5 5.211765 [1.5126] [-1.1435847]\n",
      "6 4.1842647 [1.4156313] [-1.1435847]\n",
      "7 3.3717706 [1.3292491] [-1.1773382]\n",
      "8 2.7292283 [1.2522794] [-1.2069614]\n",
      "9 2.221025 [1.1836784] [-1.2329134]\n",
      "10 1.819012 [1.1225183] [-1.2556022]\n",
      "11 1.5009371 [1.067974] [-1.275391]\n",
      "12 1.2492136 [1.019312] [-1.2926021]\n",
      "13 1.0499376 [0.9758803] [-1.3075225]\n",
      "14 0.8921208 [0.93709904] [-1.3204073]\n",
      "15 0.7670762 [0.90245277] [-1.3314831]\n",
      "16 0.66793776 [0.87148315] [-1.3409516]\n",
      "17 0.5892783 [0.8437828] [-1.3489919]\n",
      "18 0.5268081 [0.8189894] [-1.3557633]\n",
      "19 0.47713542 [0.7967809] [-1.3614076]\n"
     ]
    }
   ],
   "source": [
    "with tf.Session() as sess:\n",
    "    sess.run(tf.global_variables_initializer())\n",
    "    for step in range(20):\n",
    "        val, cost_val, w_val, b_val = sess.run([train, cost, w, b])\n",
    "        W_val.append(w_val)\n",
    "        Cost_val.append(cost_val)\n",
    "        print(step, cost_val, w_val, b_val)"
   ]
  },
  {
   "cell_type": "code",
   "execution_count": 14,
   "id": "5943d715",
   "metadata": {},
   "outputs": [],
   "source": [
    "import matplotlib.pyplot as plt"
   ]
  },
  {
   "cell_type": "code",
   "execution_count": 15,
   "id": "c9007426",
   "metadata": {},
   "outputs": [
    {
     "data": {
      "image/png": "[encoded data removed]",
      "text/plain": [
       "<matplotlib.figure.Figure at 0x7f48776e48>"
      ]
     },
     "metadata": {
      "needs_background": "light"
     },
     "output_type": "display_data"
    }
   ],
   "source": [
    "plt.plot(W_val, Cost_val, 'ro')\n",
    "plt.ylabel('Cost')\n",
    "plt.xlabel('W')\n",
    "plt.show()"
   ]
  },
  {
   "cell_type": "code",
   "execution_count": null,
   "id": "9dc10ce8",
   "metadata": {},
   "outputs": [],
   "source": []
  }
 ],
 "metadata": {
  "kernelspec": {
   "display_name": "tf1",
   "language": "python",
   "name": "tf1"
  },
  "language_info": {
   "codemirror_mode": {
    "name": "ipython",
    "version": 3
   },
   "file_extension": ".py",
   "mimetype": "text/x-python",
   "name": "python",
   "nbconvert_exporter": "python",
   "pygments_lexer": "ipython3",
   "version": "3.6.9"
  }
 },
 "nbformat": 4,
 "nbformat_minor": 5
}
