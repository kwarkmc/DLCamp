{
 "cells": [
  {
   "cell_type": "code",
   "execution_count": 1,
   "id": "9060ab98",
   "metadata": {},
   "outputs": [
    {
     "name": "stdout",
     "output_type": "stream",
     "text": [
      "WARNING:tensorflow:Deprecation warnings have been disabled. Set TF_ENABLE_DEPRECATION_WARNINGS=1 to re-enable them.\n"
     ]
    }
   ],
   "source": [
    "import tensorflow as tf\n",
    "import matplotlib.pyplot as plt"
   ]
  },
  {
   "cell_type": "code",
   "execution_count": 2,
   "id": "4655c0e9",
   "metadata": {},
   "outputs": [],
   "source": [
    "X = [1., 2., 3.]\n",
    "Y = [1., 2., 3.]\n",
    "m = n_samples = len(X)"
   ]
  },
  {
   "cell_type": "code",
   "execution_count": 3,
   "id": "4018afe5",
   "metadata": {},
   "outputs": [],
   "source": [
    "W = tf.placeholder(tf.float32)"
   ]
  },
  {
   "cell_type": "code",
   "execution_count": 4,
   "id": "4efe3f4a",
   "metadata": {},
   "outputs": [],
   "source": [
    "hypothesis = tf.multiply(X, W)"
   ]
  },
  {
   "cell_type": "code",
   "execution_count": 5,
   "id": "dc1d95db",
   "metadata": {},
   "outputs": [],
   "source": [
    "cost = tf.reduce_sum(tf.pow(hypothesis - Y, 2)) / (m)"
   ]
  },
  {
   "cell_type": "code",
   "execution_count": 6,
   "id": "e99aecd1",
   "metadata": {},
   "outputs": [],
   "source": [
    "init = tf.global_variables_initializer()"
   ]
  },
  {
   "cell_type": "code",
   "execution_count": 7,
   "id": "63ccd029",
   "metadata": {},
   "outputs": [],
   "source": [
    "W_val = []\n",
    "cost_val = []"
   ]
  },
  {
   "cell_type": "code",
   "execution_count": 8,
   "id": "605ebd8f",
   "metadata": {},
   "outputs": [],
   "source": [
    "sess = tf.Session()\n",
    "sess.run(init)"
   ]
  },
  {
   "cell_type": "code",
   "execution_count": 9,
   "id": "df523004",
   "metadata": {},
   "outputs": [
    {
     "name": "stdout",
     "output_type": "stream",
     "text": [
      "-3.0 74.66667\n",
      "-2.9000000000000004 70.98001\n",
      "-2.8000000000000003 67.386665\n",
      "-2.7 63.88667\n",
      "-2.6 60.479992\n",
      "-2.5 57.166668\n",
      "-2.4000000000000004 53.94668\n",
      "-2.3000000000000003 50.82\n",
      "-2.2 47.786674\n",
      "-2.1 44.84666\n",
      "-2.0 42.0\n",
      "-1.9000000000000001 39.246666\n",
      "-1.8 36.586662\n",
      "-1.7000000000000002 34.020004\n",
      "-1.6 31.546667\n",
      "-1.5 29.166668\n",
      "-1.4000000000000001 26.880001\n",
      "-1.3 24.686666\n",
      "-1.2000000000000002 22.58667\n",
      "-1.1 20.58\n",
      "-1.0 18.666668\n",
      "-0.9 16.846666\n",
      "-0.8 15.120001\n",
      "-0.7000000000000001 13.486667\n",
      "-0.6000000000000001 11.946669\n",
      "-0.5 10.5\n",
      "-0.4 9.146666\n",
      "-0.30000000000000004 7.886667\n",
      "-0.2 6.7200003\n",
      "-0.1 5.6466665\n",
      "0.0 4.666667\n",
      "0.1 3.7800002\n",
      "0.2 2.9866672\n",
      "0.30000000000000004 2.2866664\n",
      "0.4 1.6800001\n",
      "0.5 1.1666667\n",
      "0.6000000000000001 0.7466666\n",
      "0.7000000000000001 0.42000008\n",
      "0.8 0.18666664\n",
      "0.9 0.04666671\n",
      "1.0 0.0\n",
      "1.1 0.04666671\n",
      "1.2000000000000002 0.18666676\n",
      "1.3 0.4199999\n",
      "1.4000000000000001 0.74666655\n",
      "1.5 1.1666667\n",
      "1.6 1.6800003\n",
      "1.7000000000000002 2.2866673\n",
      "1.8 2.9866662\n",
      "1.9000000000000001 3.7799995\n",
      "2.0 4.666667\n",
      "2.1 5.6466665\n",
      "2.2 6.720001\n",
      "2.3000000000000003 7.8866653\n",
      "2.4000000000000004 9.146668\n",
      "2.5 10.5\n",
      "2.6 11.946666\n",
      "2.7 13.48667\n",
      "2.8000000000000003 15.119998\n",
      "2.9000000000000004 16.84667\n",
      "3.0 18.666668\n",
      "3.1 20.579998\n",
      "3.2 22.58667\n",
      "3.3000000000000003 24.686666\n",
      "3.4000000000000004 26.880005\n",
      "3.5 29.166668\n",
      "3.6 31.546661\n",
      "3.7 34.020004\n",
      "3.8000000000000003 36.586662\n",
      "3.9000000000000004 39.246674\n",
      "4.0 42.0\n",
      "4.1000000000000005 44.84666\n",
      "4.2 47.786663\n",
      "4.3 50.820007\n",
      "4.4 53.94668\n",
      "4.5 57.166668\n",
      "4.6000000000000005 60.479992\n",
      "4.7 63.886658\n",
      "4.800000000000001 67.38667\n",
      "4.9 70.98001\n"
     ]
    }
   ],
   "source": [
    "for i in range(-30, 50):\n",
    "    print(i * 0.1, sess.run(cost, feed_dict = {W : i * 0.1}))\n",
    "    W_val.append(i * 0.1)\n",
    "    cost_val.append(sess.run(cost, feed_dict = {W : i * 0.1}))"
   ]
  },
  {
   "cell_type": "code",
   "execution_count": 10,
   "id": "57ea531b",
   "metadata": {},
   "outputs": [
    {
     "data": {
      "image/png": "[encoded data removed]",
      "text/plain": [
       "<matplotlib.figure.Figure at 0x7f4bfa1128>"
      ]
     },
     "metadata": {
      "needs_background": "light"
     },
     "output_type": "display_data"
    }
   ],
   "source": [
    "plt.plot(W_val, cost_val, 'ro')\n",
    "plt.ylabel('Cost')\n",
    "plt.xlabel('W')\n",
    "plt.show()"
   ]
  },
  {
   "cell_type": "code",
   "execution_count": null,
   "id": "9637c86d",
   "metadata": {},
   "outputs": [],
   "source": []
  }
 ],
 "metadata": {
  "kernelspec": {
   "display_name": "tf1",
   "language": "python",
   "name": "tf1"
  },
  "language_info": {
   "codemirror_mode": {
    "name": "ipython",
    "version": 3
   },
   "file_extension": ".py",
   "mimetype": "text/x-python",
   "name": "python",
   "nbconvert_exporter": "python",
   "pygments_lexer": "ipython3",
   "version": "3.6.9"
  }
 },
 "nbformat": 4,
 "nbformat_minor": 5
}
