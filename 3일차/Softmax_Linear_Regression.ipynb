{
 "cells": [
  {
   "cell_type": "code",
   "execution_count": 1,
   "id": "8a1f7d17",
   "metadata": {},
   "outputs": [
    {
     "name": "stdout",
     "output_type": "stream",
     "text": [
      "WARNING:tensorflow:Deprecation warnings have been disabled. Set TF_ENABLE_DEPRECATION_WARNINGS=1 to re-enable them.\n"
     ]
    }
   ],
   "source": [
    "import tensorflow as tf"
   ]
  },
  {
   "cell_type": "code",
   "execution_count": 2,
   "id": "71e310ec",
   "metadata": {},
   "outputs": [],
   "source": [
    "tf.set_random_seed(777)"
   ]
  },
  {
   "cell_type": "code",
   "execution_count": 3,
   "id": "35745a77",
   "metadata": {},
   "outputs": [],
   "source": [
    "x_data = [[1, 2, 1, 1],\n",
    "         [2, 1, 3, 2],\n",
    "         [3, 1, 3, 4],\n",
    "         [4, 1, 5, 5],\n",
    "         [1, 7, 5, 5],\n",
    "         [1, 2, 5, 6],\n",
    "         [1, 6, 6, 6],\n",
    "         [1, 7, 7, 7]]\n",
    "y_data = [[0, 0, 1],\n",
    "         [0, 0, 1],\n",
    "         [0, 0, 1],\n",
    "         [0, 1, 0],\n",
    "         [0, 1, 0],\n",
    "         [0, 1, 0],\n",
    "         [1, 0, 0],\n",
    "         [1, 0, 0]]"
   ]
  },
  {
   "cell_type": "code",
   "execution_count": 4,
   "id": "ae1b22bd",
   "metadata": {},
   "outputs": [],
   "source": [
    "X = tf.placeholder(\"float\", [None, 4])\n",
    "Y = tf.placeholder(\"float\", [None, 3])\n",
    "nb_classes = 3"
   ]
  },
  {
   "cell_type": "code",
   "execution_count": 5,
   "id": "a5250800",
   "metadata": {},
   "outputs": [],
   "source": [
    "W = tf.Variable(tf.random_normal([4, nb_classes]), name = \"Weight\")\n",
    "b = tf.Variable(tf.random_normal([nb_classes]), name = 'bias')"
   ]
  },
  {
   "cell_type": "code",
   "execution_count": 6,
   "id": "5d73ea7c",
   "metadata": {},
   "outputs": [],
   "source": [
    "hypothesis = tf.nn.softmax(tf.matmul(X, W) + b)"
   ]
  },
  {
   "cell_type": "code",
   "execution_count": 7,
   "id": "b415679d",
   "metadata": {},
   "outputs": [],
   "source": [
    "cost = tf.reduce_mean(-tf.reduce_sum(Y * tf.log(hypothesis), axis = 1))"
   ]
  },
  {
   "cell_type": "code",
   "execution_count": 8,
   "id": "7fae99b9",
   "metadata": {},
   "outputs": [],
   "source": [
    "optimizer = tf.train.GradientDescentOptimizer(learning_rate=0.1).minimize(cost)"
   ]
  },
  {
   "cell_type": "code",
   "execution_count": 10,
   "id": "f4ed4d05",
   "metadata": {},
   "outputs": [],
   "source": [
    "Cost_val = []\n",
    "Steps = []"
   ]
  },
  {
   "cell_type": "code",
   "execution_count": 14,
   "id": "6806d773",
   "metadata": {},
   "outputs": [
    {
     "name": "stdout",
     "output_type": "stream",
     "text": [
      "0 6.926112\n",
      "200 0.6005015\n",
      "400 0.47295797\n",
      "600 0.37342912\n",
      "800 0.28018364\n",
      "1000 0.23280509\n",
      "1200 0.21065351\n",
      "1400 0.1922989\n",
      "1600 0.17682323\n",
      "1800 0.16359545\n",
      "2000 0.15216151\n",
      "---------------\n",
      "[[1.3890412e-03 9.9860197e-01 9.0613094e-06]] [1]\n",
      "Result :  [1]\n",
      "---------------\n",
      "[[0.9311922  0.06290191 0.0059059 ]] [0]\n",
      "Result :  [0]\n",
      "---------------\n",
      "[[1.2732815e-08 3.3411290e-04 9.9966586e-01]] [2]\n",
      "Result :  [2]\n",
      "---------------\n",
      "[[1.3890412e-03 9.9860197e-01 9.0612930e-06]\n",
      " [9.3119222e-01 6.2901914e-02 5.9059025e-03]\n",
      " [1.2732815e-08 3.3411290e-04 9.9966586e-01]] [1 0 2]\n"
     ]
    }
   ],
   "source": [
    "with tf.Session() as sess:\n",
    "    sess.run(tf.global_variables_initializer())\n",
    "    \n",
    "    for step in range(2001):\n",
    "        val, cost_val = sess.run([optimizer, cost], feed_dict = {X : x_data, Y : y_data})\n",
    "        Cost_val.append(cost_val)\n",
    "        Steps.append(step)\n",
    "        if step % 200 == 0:\n",
    "            print(step, cost_val)\n",
    "    \n",
    "    print(\"---------------\")\n",
    "    a = sess.run(hypothesis, feed_dict = {X : [[1, 11, 7, 9]]})\n",
    "    print(a, sess.run(tf.argmax(a, 1)))\n",
    "    print(\"Result : \", sess.run(tf.argmax(a, 1)))\n",
    "    \n",
    "    print(\"---------------\")\n",
    "    b = sess.run(hypothesis, feed_dict = {X : [[1, 3, 4, 3]]})\n",
    "    print(b, sess.run(tf.argmax(b, 1)))\n",
    "    print(\"Result : \", sess.run(tf.argmax(b, 1)))\n",
    "    \n",
    "    print(\"---------------\")\n",
    "    c = sess.run(hypothesis, feed_dict = {X : [[1, 1, 0, 1]]})\n",
    "    print(c, sess.run(tf.argmax(c, 1)))\n",
    "    print(\"Result : \", sess.run(tf.argmax(c, 1)))\n",
    "    \n",
    "    print(\"---------------\")\n",
    "    all = sess.run(hypothesis, feed_dict = {X : [[1, 11, 7, 9], [1, 3, 4, 3], [1, 1, 0, 1]]})\n",
    "    print(all, sess.run(tf.argmax(all, 1)))"
   ]
  },
  {
   "cell_type": "code",
   "execution_count": 15,
   "id": "433fe813",
   "metadata": {},
   "outputs": [],
   "source": [
    "import matplotlib.pyplot as plt"
   ]
  },
  {
   "cell_type": "code",
   "execution_count": 20,
   "id": "ff519060",
   "metadata": {},
   "outputs": [
    {
     "data": {
      "image/png": "[encoded data removed]",
      "text/plain": [
       "<matplotlib.figure.Figure at 0x7f457f8a90>"
      ]
     },
     "metadata": {
      "needs_background": "light"
     },
     "output_type": "display_data"
    }
   ],
   "source": [
    "plt.plot(Steps, Cost_val)\n",
    "plt.xlabel('Step')\n",
    "plt.ylabel('Cost')\n",
    "plt.show()"
   ]
  }
 ],
 "metadata": {
  "kernelspec": {
   "display_name": "tf1",
   "language": "python",
   "name": "tf1"
  },
  "language_info": {
   "codemirror_mode": {
    "name": "ipython",
    "version": 3
   },
   "file_extension": ".py",
   "mimetype": "text/x-python",
   "name": "python",
   "nbconvert_exporter": "python",
   "pygments_lexer": "ipython3",
   "version": "3.6.9"
  }
 },
 "nbformat": 4,
 "nbformat_minor": 5
}
